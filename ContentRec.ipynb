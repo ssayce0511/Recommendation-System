{
 "cells": [
  {
   "cell_type": "code",
   "execution_count": 1,
   "metadata": {},
   "outputs": [],
   "source": [
    "import pandas as pd"
   ]
  },
  {
   "cell_type": "code",
   "execution_count": 2,
   "metadata": {},
   "outputs": [],
   "source": [
    "df = pd.read_csv(r'C:\\Users\\ssayc\\HandsOnRec\\data\\projectinfo.csv')"
   ]
  },
  {
   "cell_type": "code",
   "execution_count": 3,
   "metadata": {},
   "outputs": [
    {
     "name": "stdout",
     "output_type": "stream",
     "text": [
      "<class 'pandas.core.frame.DataFrame'>\n",
      "RangeIndex: 3000 entries, 0 to 2999\n",
      "Data columns (total 31 columns):\n",
      " #   Column               Non-Null Count  Dtype  \n",
      "---  ------               --------------  -----  \n",
      " 0   fullname             3000 non-null   object \n",
      " 1   analyzed             3000 non-null   object \n",
      " 2   cloneurl             3000 non-null   object \n",
      " 3   commits_count        3000 non-null   int64  \n",
      " 4   created_at           3000 non-null   object \n",
      " 5   default_branch       3000 non-null   object \n",
      " 6   description          2968 non-null   object \n",
      " 7   errormsg             677 non-null    object \n",
      " 8   error_commits_count  3000 non-null   int64  \n",
      " 9   filtered             3000 non-null   object \n",
      " 10  filterinfo           677 non-null    object \n",
      " 11  fork                 3000 non-null   object \n",
      " 12  forks_count          3000 non-null   int64  \n",
      " 13  homepage             1778 non-null   object \n",
      " 14  language             3000 non-null   object \n",
      " 15  lastcommit           2987 non-null   object \n",
      " 16  mainlanguage         2998 non-null   object \n",
      " 17  name                 2999 non-null   object \n",
      " 18  numauthors           3000 non-null   int64  \n",
      " 19  numfiles             3000 non-null   int64  \n",
      " 20  open_issues          3000 non-null   int64  \n",
      " 21  owner                3000 non-null   object \n",
      " 22  pushed_at            3000 non-null   object \n",
      " 23  query                3000 non-null   object \n",
      " 24  size                 3000 non-null   int64  \n",
      " 25  stargazers_count     3000 non-null   int64  \n",
      " 26  status               3000 non-null   object \n",
      " 27  updated_at           3000 non-null   object \n",
      " 28  watchers_count       3000 non-null   int64  \n",
      " 29  tf                   2992 non-null   float64\n",
      " 30  firstcommit          1978 non-null   object \n",
      "dtypes: float64(1), int64(9), object(21)\n",
      "memory usage: 480.5+ KB\n"
     ]
    }
   ],
   "source": [
    "df.info()"
   ]
  },
  {
   "cell_type": "code",
   "execution_count": 4,
   "metadata": {},
   "outputs": [],
   "source": [
    "projects = df[['name', 'numauthors', 'tf', 'open_issues', 'forks_count', 'numfiles', 'mainlanguage', 'description']]"
   ]
  },
  {
   "cell_type": "code",
   "execution_count": 5,
   "metadata": {},
   "outputs": [
    {
     "data": {
      "text/plain": [
       "0       b'Android-Bootstrap'\n",
       "1            b'mediaelement'\n",
       "2             b'redis-store'\n",
       "3                b'magento2'\n",
       "4               b'spinnaker'\n",
       "                ...         \n",
       "2995               b'mlpack'\n",
       "2996          b'cleanflight'\n",
       "2997        b'awesome_print'\n",
       "2998                 b'xiki'\n",
       "2999    b'devise_token_auth'\n",
       "Name: name, Length: 3000, dtype: bytes328"
      ]
     },
     "execution_count": 5,
     "metadata": {},
     "output_type": "execute_result"
    }
   ],
   "source": [
    "projects['name'].astype(\"|S\")"
   ]
  },
  {
   "cell_type": "code",
   "execution_count": 6,
   "metadata": {},
   "outputs": [
    {
     "name": "stdout",
     "output_type": "stream",
     "text": [
      "<class 'pandas.core.frame.DataFrame'>\n",
      "RangeIndex: 3000 entries, 0 to 2999\n",
      "Data columns (total 8 columns):\n",
      " #   Column        Non-Null Count  Dtype  \n",
      "---  ------        --------------  -----  \n",
      " 0   name          2999 non-null   object \n",
      " 1   numauthors    3000 non-null   int64  \n",
      " 2   tf            2992 non-null   float64\n",
      " 3   open_issues   3000 non-null   int64  \n",
      " 4   forks_count   3000 non-null   int64  \n",
      " 5   numfiles      3000 non-null   int64  \n",
      " 6   mainlanguage  2998 non-null   object \n",
      " 7   description   2968 non-null   object \n",
      "dtypes: float64(1), int64(4), object(3)\n",
      "memory usage: 152.4+ KB\n"
     ]
    }
   ],
   "source": [
    "projects.info()"
   ]
  },
  {
   "cell_type": "code",
   "execution_count": 7,
   "metadata": {},
   "outputs": [],
   "source": [
    "from sklearn.feature_extraction.text import TfidfVectorizer"
   ]
  },
  {
   "cell_type": "code",
   "execution_count": 8,
   "metadata": {},
   "outputs": [],
   "source": [
    "#Define a TF-IDF Vectorizer Object. Remove all english stopwords\n",
    "tfidf = TfidfVectorizer(stop_words='english')"
   ]
  },
  {
   "cell_type": "code",
   "execution_count": 9,
   "metadata": {},
   "outputs": [
    {
     "name": "stderr",
     "output_type": "stream",
     "text": [
      "<ipython-input-9-ee92ec1c82d1>:1: SettingWithCopyWarning: \n",
      "A value is trying to be set on a copy of a slice from a DataFrame.\n",
      "Try using .loc[row_indexer,col_indexer] = value instead\n",
      "\n",
      "See the caveats in the documentation: https://pandas.pydata.org/pandas-docs/stable/user_guide/indexing.html#returning-a-view-versus-a-copy\n",
      "  projects['description'] = projects['description'].fillna('')\n"
     ]
    }
   ],
   "source": [
    "projects['description'] = projects['description'].fillna('')"
   ]
  },
  {
   "cell_type": "code",
   "execution_count": 10,
   "metadata": {},
   "outputs": [
    {
     "data": {
      "text/plain": [
       "(3000, 5610)"
      ]
     },
     "execution_count": 10,
     "metadata": {},
     "output_type": "execute_result"
    }
   ],
   "source": [
    "#Construct the required TF-IDF matrix by applying the fit_transform method on the overview feature\n",
    "tfidf_matrix = tfidf.fit_transform(projects['description'])\n",
    "\n",
    "#Output the shape of tfidf_matrix\n",
    "tfidf_matrix.shape"
   ]
  },
  {
   "cell_type": "code",
   "execution_count": 11,
   "metadata": {},
   "outputs": [],
   "source": [
    "# Import linear_kernel to compute the dot product\n",
    "from sklearn.metrics.pairwise import linear_kernel\n",
    "\n",
    "# Compute the cosine similarity matrix\n",
    "cosine_sim = linear_kernel(tfidf_matrix, tfidf_matrix)"
   ]
  },
  {
   "cell_type": "code",
   "execution_count": 12,
   "metadata": {},
   "outputs": [],
   "source": [
    "#Construct a reverse mapping of indices and movie titles, and drop duplicate titles, if any\n",
    "indices = pd.Series(projects.index, index=projects['name']).drop_duplicates()"
   ]
  },
  {
   "cell_type": "code",
   "execution_count": 13,
   "metadata": {},
   "outputs": [],
   "source": [
    "# Function that takes in project name as input and gives recommendations \n",
    "def content_recommender(name, cosine_sim=cosine_sim, df=projects, indices=indices):\n",
    "    # Obtain the index of the project that matches the name\n",
    "    idx = indices[name]\n",
    "\n",
    "    # Get the pairwsie similarity scores of all projects with that project\n",
    "    # And convert it into a list of tuples as described above\n",
    "    sim_scores = list(enumerate(cosine_sim[idx]))\n",
    "\n",
    "    # Sort the projects based on the cosine similarity scores\n",
    "    sim_scores = sorted(sim_scores, key=lambda x: x[1], reverse=True)\n",
    "\n",
    "    # Get the scores of the 10 most similar projects. Ignore the first one.\n",
    "    sim_scores = sim_scores[1:11]\n",
    "\n",
    "    # Get the project indices\n",
    "    movie_indices = [i[0] for i in sim_scores]\n",
    "\n",
    "    # Return the top 10 most similar projects\n",
    "    return df['name'].iloc[movie_indices]"
   ]
  },
  {
   "cell_type": "code",
   "execution_count": 14,
   "metadata": {},
   "outputs": [
    {
     "data": {
      "text/plain": [
       "2950    react-redux-universal-hot-example\n",
       "2951                               portia\n",
       "2952                              vue-cli\n",
       "2953                            dropplets\n",
       "2954                              Buttons\n",
       "2955                       openFrameworks\n",
       "2956                             or-tools\n",
       "2957                    Android-Week-View\n",
       "2958                      capybara-webkit\n",
       "2959                          vagrant-aws\n",
       "2960                                  bfs\n",
       "2961                              Lasagne\n",
       "2962                                jinja\n",
       "2963                              laravel\n",
       "2964                                   v8\n",
       "2965                           TimelineJS\n",
       "2966                           searchable\n",
       "2967                         imagesloaded\n",
       "2968               recyclerview-animators\n",
       "2969                          node-canvas\n",
       "2970                               statsd\n",
       "2971                           youtube-dl\n",
       "2972                               uBlock\n",
       "2973                    DesignPatternsPHP\n",
       "2974                               wicked\n",
       "2975                       home-assistant\n",
       "2976                            RetroArch\n",
       "2977                            command-t\n",
       "2978                            mailboxer\n",
       "2979                      powerline-shell\n",
       "2980                            rethinkdb\n",
       "2981                            stackedit\n",
       "2982                               eureka\n",
       "2983                                  dat\n",
       "2984                           redis-stat\n",
       "2985                             greenDAO\n",
       "2986                             linguist\n",
       "2987                         freeCodeCamp\n",
       "2988                              Bonfire\n",
       "2989                              insoshi\n",
       "2990                                  mui\n",
       "2991                           fastnetmon\n",
       "2992                                   c3\n",
       "2993                              mjolnir\n",
       "2994                             casperjs\n",
       "2995                               mlpack\n",
       "2996                          cleanflight\n",
       "2997                        awesome_print\n",
       "2998                                 xiki\n",
       "2999                    devise_token_auth\n",
       "Name: name, dtype: object"
      ]
     },
     "execution_count": 14,
     "metadata": {},
     "output_type": "execute_result"
    }
   ],
   "source": [
    "projects['name'].tail(50)"
   ]
  },
  {
   "cell_type": "code",
   "execution_count": 22,
   "metadata": {},
   "outputs": [
    {
     "data": {
      "text/plain": [
       "2017          groupdate\n",
       "276        mysql-server\n",
       "1907        LittleProxy\n",
       "526              botman\n",
       "2252        Rocket.Chat\n",
       "2244          lets-chat\n",
       "2980          rethinkdb\n",
       "2467             unmark\n",
       "187     graylog2-server\n",
       "919            webshell\n",
       "Name: name, dtype: object"
      ]
     },
     "execution_count": 22,
     "metadata": {},
     "output_type": "execute_result"
    }
   ],
   "source": [
    "content_recommender('zulip')"
   ]
  },
  {
   "cell_type": "code",
   "execution_count": null,
   "metadata": {},
   "outputs": [],
   "source": []
  }
 ],
 "metadata": {
  "kernelspec": {
   "display_name": "Python 3",
   "language": "python",
   "name": "python3"
  },
  "language_info": {
   "codemirror_mode": {
    "name": "ipython",
    "version": 3
   },
   "file_extension": ".py",
   "mimetype": "text/x-python",
   "name": "python",
   "nbconvert_exporter": "python",
   "pygments_lexer": "ipython3",
   "version": "3.8.2"
  }
 },
 "nbformat": 4,
 "nbformat_minor": 4
}
